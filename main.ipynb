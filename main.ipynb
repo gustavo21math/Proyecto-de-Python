{
 "cells": [
  {
   "cell_type": "code",
   "execution_count": 1,
   "id": "60961437-98f0-412a-ba0c-e426a5c5df3f",
   "metadata": {},
   "outputs": [],
   "source": [
    "from src.ApylabradosModule import Pawns,Word,FrequencyTable,Board,Dictionary\n",
    "import src.ApylabradosModule as ApylabradosModule\n",
    "import numpy as np\n",
    "import pandas as pd\n",
    "import matplotlib.pyplot as plt"
   ]
  },
  {
   "cell_type": "code",
   "execution_count": 2,
   "id": "2584fac8-de96-48cc-834d-69f2989f3a7f",
   "metadata": {},
   "outputs": [
    {
     "data": {
      "image/png": "[encoded data removed]",
      "text/plain": [
       "<Figure size 1000x200 with 1 Axes>"
      ]
     },
     "metadata": {},
     "output_type": "display_data"
    },
    {
     "name": "stdout",
     "output_type": "stream",
     "text": [
      "¿Que deseas hacer ?  \n",
      " \n",
      " Para continuar, introduce: ENTERWORD\n",
      " Para consultar fichar, introduce: MYPAWNS\n",
      " Para consultar puntos actuales, introduce: MYSCORE\n",
      " Para consultar puntos de cada ficha, introduce: PAWNSPOINTS\n",
      " Para obtener Ayuda con la posible palabra, introduce: HELPWORD\n",
      " Para obtener Ayuda con la Legenda, introduce: HELPLEGEND\n",
      " Para Salir del juego, introduce: QUITGAME\n",
      " \n",
      "Fin del Juego\n",
      "has conseguido 0 de puntos en esta partida\n"
     ]
    }
   ],
   "source": [
    "ApylabradosModule.startGame()\n",
    "while not ApylabradosModule.end and ApylabradosModule.bag_of_pawns.getTotalPawns()>0:\n",
    "    ApylabradosModule.showOption()\n",
    "if ApylabradosModule.bag_of_pawns.getTotalPawns()<=0:\n",
    "    print(\"¡¡¡Te has quedado sin fichas!!!\")\n",
    "    print(\"Fin del juego\")\n",
    "print(f\"has conseguido {Board.score} de puntos en esta partida\")"
   ]
  },
  {
   "cell_type": "code",
   "execution_count": 3,
   "id": "34edda74",
   "metadata": {},
   "outputs": [
    {
     "name": "stdout",
     "output_type": "stream",
     "text": [
      "* Running on local URL:  http://127.0.0.1:7862\n",
      "* To create a public link, set `share=True` in `launch()`.\n"
     ]
    },
    {
     "data": {
      "text/html": [
       "<div><iframe src=\"http://127.0.0.1:7862/\" width=\"100%\" height=\"500\" allow=\"autoplay; camera; microphone; clipboard-read; clipboard-write;\" frameborder=\"0\" allowfullscreen></iframe></div>"
      ],
      "text/plain": [
       "<IPython.core.display.HTML object>"
      ]
     },
     "metadata": {},
     "output_type": "display_data"
    },
    {
     "data": {
      "text/plain": []
     },
     "execution_count": 3,
     "metadata": {},
     "output_type": "execute_result"
    }
   ],
   "source": [
    "import gradio as gr\n",
    "import src.ApylabradosModule as ApylabradosModule\n",
    "\n",
    "# Inicialización del juego\n",
    "ApylabradosModule.startGame()\n",
    "\n",
    "def jugar_accion(accion, palabra=None, fila=None, columna=None, direccion=None):\n",
    "    # Aquí deberías adaptar la lógica para cada acción\n",
    "    if accion == \"ENTERWORD\":\n",
    "        # Validar y colocar palabra\n",
    "        # Aquí deberías usar palabra, fila, columna y dirección\n",
    "        return \"Palabra colocada (o mensaje de error)\", \"tablero.png\"\n",
    "    elif accion == \"MYPAWNS\":\n",
    "        return \"Tus fichas: ...\", \"tablero.png\"\n",
    "    elif accion == \"MYSCORE\":\n",
    "        return f\"Puntuación: {ApylabradosModule.Board.score}\", \"tablero.png\"\n",
    "    elif accion == \"PAWNSPOINTS\":\n",
    "        return \"Puntos de cada ficha: ...\", \"tablero.png\"\n",
    "    elif accion == \"HELPWORD\":\n",
    "        return \"Palabras posibles: ...\", \"tablero.png\"\n",
    "    elif accion == \"HELPLEGEND\":\n",
    "        return \"Leyenda del tablero: ...\", \"tablero.png\"\n",
    "    elif accion == \"QUITGAME\":\n",
    "        return \"¡Gracias por jugar!\", \"tablero.png\"\n",
    "    else:\n",
    "        return \"Opción no reconocida\", \"tablero.png\"\n",
    "\n",
    "with gr.Blocks() as demo:\n",
    "    gr.Markdown(\"## Apailabrados\")\n",
    "    with gr.Row():\n",
    "        # Columna izquierda: interacción con Tabs\n",
    "        with gr.Column(scale=1):\n",
    "            with gr.Tabs():\n",
    "                with gr.TabItem(\"Instrucciones\"):\n",
    "                    gr.Markdown(ApylabradosModule.welcome())\n",
    "                    gr.Markdown(ApylabradosModule.instrucciones())\n",
    "                with gr.TabItem(\"Mis fichas\"):\n",
    "                    pawns_box = gr.Textbox(label=\"Tus fichas\", interactive=False)\n",
    "                    # Aquí podrías actualizar el contenido con la función correspondiente\n",
    "                with gr.TabItem(\"Jugar\"):\n",
    "                    accion = gr.Dropdown(\n",
    "                        choices=[\n",
    "                            \"ENTERWORD\", \"MYSCORE\", \"PAWNSPOINTS\",\n",
    "                            \"HELPWORD\", \"HELPLEGEND\", \"QUITGAME\"\n",
    "                        ],\n",
    "                        label=\"¿Qué deseas hacer?\"\n",
    "                    )\n",
    "                    palabra = gr.Textbox(label=\"Palabra (si aplica)\", visible=False)\n",
    "                    fila = gr.Number(label=\"Fila (si aplica)\", visible=False)\n",
    "                    columna = gr.Number(label=\"Columna (si aplica)\", visible=False)\n",
    "                    direccion = gr.Dropdown(choices=[\"V\", \"H\"], label=\"Dirección (si aplica)\", visible=False)\n",
    "                    btn = gr.Button(\"Enviar\")\n",
    "                    salida = gr.Textbox(label=\"Salida\")\n",
    "        # Columna derecha: tablero\n",
    "        with gr.Column(scale=2):\n",
    "            tablero = gr.Image(value=\"images/tablero.png\", label=\"Tablero\")\n",
    "            legenda = gr.Image(value='images/legend.png', label='legend')\n",
    "\n",
    "    # Mostrar u ocultar campos según la acción seleccionada\n",
    "    def mostrar_campos(accion):\n",
    "        if accion == \"ENTERWORD\":\n",
    "            return {palabra: gr.update(visible=True),\n",
    "                    fila: gr.update(visible=True),\n",
    "                    columna: gr.update(visible=True),\n",
    "                    direccion: gr.update(visible=True)}\n",
    "        else:\n",
    "            return {palabra: gr.update(visible=False),\n",
    "                    fila: gr.update(visible=False),\n",
    "                    columna: gr.update(visible=False),\n",
    "                    direccion: gr.update(visible=False)}\n",
    "\n",
    "    accion.change(mostrar_campos, inputs=accion, outputs=[palabra, fila, columna, direccion])\n",
    "    btn.click(jugar_accion, inputs=[accion, palabra, fila, columna, direccion], outputs=[salida, tablero])\n",
    "\n",
    "demo.launch()\n"
   ]
  },
  {
   "cell_type": "code",
   "execution_count": null,
   "id": "560e22d7",
   "metadata": {},
   "outputs": [],
   "source": []
  }
 ],
 "metadata": {
  "kernelspec": {
   "display_name": "apilabrado",
   "language": "python",
   "name": "python3"
  },
  "language_info": {
   "codemirror_mode": {
    "name": "ipython",
    "version": 3
   },
   "file_extension": ".py",
   "mimetype": "text/x-python",
   "name": "python",
   "nbconvert_exporter": "python",
   "pygments_lexer": "ipython3",
   "version": "3.12.2"
  }
 },
 "nbformat": 4,
 "nbformat_minor": 5
}
