{
 "cells": [
  {
   "cell_type": "code",
   "execution_count": 1,
   "id": "60961437-98f0-412a-ba0c-e426a5c5df3f",
   "metadata": {},
   "outputs": [],
   "source": [
    "from src.ApylabradosModule import Pawns,Word,FrequencyTable,Board,Dictionary\n",
    "import src.ApylabradosModule as ApylabradosModule\n",
    "import numpy as np\n",
    "import pandas as pd\n",
    "import matplotlib.pyplot as plt"
   ]
  },
  {
   "cell_type": "code",
   "execution_count": 2,
   "id": "2584fac8-de96-48cc-834d-69f2989f3a7f",
   "metadata": {},
   "outputs": [
    {
     "name": "stdout",
     "output_type": "stream",
     "text": [
      "¿Que deseas hacer ?  \n",
      " \n",
      " Para continuar, introduce: ENTERWORD\n",
      " Para consultar fichar, introduce: MYPAWNS\n",
      " Para consultar puntos actuales, introduce: MYSCORE\n",
      " Para consultar puntos de cada ficha, introduce: PAWNSPOINTS\n",
      " Para obtener Ayuda con la posible palabra, introduce: HELPWORD\n",
      " Para obtener Ayuda con la Legenda, introduce: HELPLEGEND\n",
      " Para Salir del juego, introduce: QUITGAME\n",
      " \n",
      "Fin del Juego\n",
      "has conseguido 0 de puntos en esta partida\n"
     ]
    }
   ],
   "source": [
    "ApylabradosModule.startGame()\n",
    "while not ApylabradosModule.end and ApylabradosModule.bag_of_pawns.getTotalPawns()>0:\n",
    "    ApylabradosModule.showOption()\n",
    "if ApylabradosModule.bag_of_pawns.getTotalPawns()<=0:\n",
    "    print(\"¡¡¡Te has quedado sin fichas!!!\")\n",
    "    print(\"Fin del juego\")\n",
    "print(f\"has conseguido {Board.score} de puntos en esta partida\")"
   ]
  },
  {
   "cell_type": "code",
   "execution_count": 10,
   "id": "34edda74",
   "metadata": {},
   "outputs": [
    {
     "name": "stdout",
     "output_type": "stream",
     "text": [
      "* Running on local URL:  http://127.0.0.1:7868\n",
      "* To create a public link, set `share=True` in `launch()`.\n"
     ]
    },
    {
     "data": {
      "text/html": [
       "<div><iframe src=\"http://127.0.0.1:7868/\" width=\"100%\" height=\"500\" allow=\"autoplay; camera; microphone; clipboard-read; clipboard-write;\" frameborder=\"0\" allowfullscreen></iframe></div>"
      ],
      "text/plain": [
       "<IPython.core.display.HTML object>"
      ]
     },
     "metadata": {},
     "output_type": "display_data"
    },
    {
     "data": {
      "text/plain": []
     },
     "execution_count": 10,
     "metadata": {},
     "output_type": "execute_result"
    }
   ],
   "source": [
    "import gradio as gr\n",
    "import src.ApylabradosModule as ApylabradosModule\n",
    "\n",
    "# Inicialización del juego\n",
    "ApylabradosModule.startGame()\n",
    "\n",
    "def jugar_accion(accion, palabra=None, fila=None, columna=None, direccion=None):\n",
    "    if accion == \"ENTERWORD\":\n",
    "        try:\n",
    "            # Validar que todos los campos estén completos\n",
    "            if not palabra or fila is None or columna is None or not direccion:\n",
    "                return \"Por favor, completa todos los campos\", \"images/tablero.png\"\n",
    "            \n",
    "            # Convertir la palabra a mayúsculas y crear objeto Word\n",
    "            palabra_upper = palabra.upper().strip()\n",
    "            word_obj = ApylabradosModule.Word()\n",
    "            for letra in palabra_upper:\n",
    "                word_obj.word.append(letra)\n",
    "            \n",
    "            # Validar que la palabra existe en el diccionario\n",
    "            if not ApylabradosModule.Dictionary.validateWord(word_obj):\n",
    "                return \"La palabra no existe en el diccionario\", \"images/tablero.png\"\n",
    "            \n",
    "            # Validar que se puede formar con las fichas disponibles\n",
    "            word_freq = word_obj.getFrequency()\n",
    "            player_freq = ApylabradosModule.player_pawns.getFrequency()\n",
    "            \n",
    "            if not ApylabradosModule.FrequencyTable.isSubset(word_freq, player_freq):\n",
    "                return \"No puedes formar esta palabra con tus fichas\", \"images/tablero.png\"\n",
    "            \n",
    "            # Validar que se puede colocar en la posición especificada\n",
    "            posible, mensaje = ApylabradosModule.board.isPossible(word_obj, int(fila), int(columna), direccion)\n",
    "            if not posible:\n",
    "                return f\"Error: {mensaje}\", \"images/tablero.png\"\n",
    "            \n",
    "            # Colocar la palabra en el tablero\n",
    "            ApylabradosModule.board.placeWord(ApylabradosModule.player_pawns, word_obj, int(fila), int(columna), direccion)\n",
    "            \n",
    "            # Generar nueva imagen del tablero\n",
    "            nueva_imagen = ApylabradosModule.board.showBoard()\n",
    "            \n",
    "            return f\"¡Palabra '{palabra_upper}' colocada exitosamente! Puntuación: {ApylabradosModule.Board.score}\", nueva_imagen\n",
    "            \n",
    "        except Exception as e:\n",
    "            return f\"Error: {str(e)}\", \"images/tablero.png\"\n",
    "    \n",
    "    elif accion == \"HELPLEGEND\":\n",
    "        return \"Leyenda del tablero mostrada\", \"images/legend.png\"\n",
    "    elif accion == \"QUITGAME\":\n",
    "        return \"¡Gracias por jugar!\", \"images/tablero.png\"\n",
    "    else:\n",
    "        return \"Opción no reconocida\", \"images/tablero.png\"\n",
    "def palabras_sugeridas():\n",
    "    # Lógica para obtener palabras sugeridas\n",
    "    # Usamos la función showWords pero adaptada para devolver string\n",
    "    from io import StringIO\n",
    "    import sys\n",
    "    old_stdout = sys.stdout\n",
    "    sys.stdout = mystdout = StringIO()\n",
    "    ApylabradosModule.Dictionary.showWords(ApylabradosModule.player_pawns)\n",
    "    sys.stdout = old_stdout\n",
    "    resultado = mystdout.getvalue()\n",
    "    if not resultado.strip():\n",
    "        resultado = \"No hay palabras sugeridas.\"\n",
    "    return resultado\n",
    "with gr.Blocks() as demo:\n",
    "    gr.Markdown(\"## Apailabrados\")\n",
    "    with gr.Row():\n",
    "        # Columna izquierda: interacción con Tabs\n",
    "        with gr.Column(scale=1):\n",
    "            with gr.Tabs():\n",
    "                with gr.TabItem(\"Instrucciones\"):\n",
    "                    gr.Markdown(ApylabradosModule.welcome())\n",
    "                    gr.Markdown(ApylabradosModule.instrucciones())\n",
    "                with gr.TabItem(\"Mis fichas\"):\n",
    "                    pawns_box = gr.Markdown(value=ApylabradosModule.player_pawns.getPawnsString())\n",
    "                    helpword_btn = gr.Button(\"HELPWORD\")\n",
    "                    sugeridas_box = gr.Textbox(label=\"Palabras sugeridas\", lines=5, interactive=False)\n",
    "                    helpword_btn.click(palabras_sugeridas, outputs=sugeridas_box)\n",
    "                    # Aquí podrías actualizar el contenido con la función correspondiente\n",
    "                with gr.TabItem(\"Jugar\"):\n",
    "                    accion = gr.Dropdown(\n",
    "                        choices=[\n",
    "                            \"ENTERWORD\",\n",
    "                             \"HELPLEGEND\", \"QUITGAME\"\n",
    "                        ],\n",
    "                        value='ENTERWORD',\n",
    "                        label=\"¿Qué deseas hacer?\"\n",
    "                    )\n",
    "                    palabra = gr.Textbox(label=\"Palabra (si aplica)\", visible=False)\n",
    "                    fila = gr.Number(label=\"Fila (si aplica)\", visible=False)\n",
    "                    columna = gr.Number(label=\"Columna (si aplica)\", visible=False)\n",
    "                    direccion = gr.Dropdown(choices=[\"V\", \"H\"], label=\"Dirección (si aplica)\", visible=False)\n",
    "                    btn = gr.Button(\"Enviar\")\n",
    "                    salida = gr.Textbox(label=\"Salida\")\n",
    "        # Columna derecha: tablero\n",
    "        with gr.Column(scale=2):\n",
    "            tablero = gr.Image(value=\"images/tablero.png\", label=\"Tablero\")\n",
    "            legenda = gr.Image(value='images/legend.png', label='legend')\n",
    "\n",
    "    # Mostrar u ocultar campos según la acción seleccionada\n",
    "    def mostrar_campos(accion):\n",
    "        if accion == \"ENTERWORD\":\n",
    "            return {palabra: gr.update(visible=True),\n",
    "                    fila: gr.update(visible=True),\n",
    "                    columna: gr.update(visible=True),\n",
    "                    direccion: gr.update(visible=True)}\n",
    "        else:\n",
    "            return {palabra: gr.update(visible=False),\n",
    "                    fila: gr.update(visible=False),\n",
    "                    columna: gr.update(visible=False),\n",
    "                    direccion: gr.update(visible=False)}\n",
    "    # Ejecutar mostrar_campos al inicio para reflejar el estado inicial\n",
    "    demo.load(lambda: mostrar_campos(\"ENTERWORD\"), None, [palabra, fila, columna, direccion])\n",
    "    accion.change(mostrar_campos, inputs=accion, outputs=[palabra, fila, columna, direccion])\n",
    "    btn.click(jugar_accion, inputs=[accion, palabra, fila, columna, direccion], outputs=[salida, tablero])\n",
    "\n",
    "demo.launch()\n"
   ]
  },
  {
   "cell_type": "code",
   "execution_count": null,
   "id": "560e22d7",
   "metadata": {},
   "outputs": [],
   "source": []
  }
 ],
 "metadata": {
  "kernelspec": {
   "display_name": "apilabrado",
   "language": "python",
   "name": "python3"
  },
  "language_info": {
   "codemirror_mode": {
    "name": "ipython",
    "version": 3
   },
   "file_extension": ".py",
   "mimetype": "text/x-python",
   "name": "python",
   "nbconvert_exporter": "python",
   "pygments_lexer": "ipython3",
   "version": "3.12.2"
  }
 },
 "nbformat": 4,
 "nbformat_minor": 5
}
